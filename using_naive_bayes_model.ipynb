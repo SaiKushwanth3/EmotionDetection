{
  "nbformat": 4,
  "nbformat_minor": 0,
  "metadata": {
    "colab": {
      "name": "using_naive_bayes.ipynb",
      "provenance": [],
      "collapsed_sections": []
    },
    "kernelspec": {
      "name": "python3",
      "display_name": "Python 3"
    },
    "language_info": {
      "name": "python"
    }
  },
  "cells": [
    {
      "cell_type": "code",
      "metadata": {
        "id": "KflT5fNaWlwP",
        "colab": {
          "base_uri": "https://localhost:8080/"
        },
        "outputId": "abc16d8f-2b35-4004-af0a-b725a92ba301"
      },
      "source": [
        "import string\n",
        "from collections import Counter\n",
        "import pandas as pd\n",
        "import numpy as np\n",
        "import matplotlib.pyplot as plt\n",
        "import nltk\n",
        "from nltk import pos_tag\n",
        "from nltk.corpus import stopwords\n",
        "from nltk.stem import WordNetLemmatizer\n",
        "from nltk.tokenize import word_tokenize\n",
        "nltk.download('punkt')\n",
        "nltk.download('stopwords')\n",
        "nltk.download('wordnet')\n",
        "nltk.download('averaged_perceptron_tagger')"
      ],
      "execution_count": 6,
      "outputs": [
        {
          "output_type": "stream",
          "name": "stdout",
          "text": [
            "[nltk_data] Downloading package punkt to /root/nltk_data...\n",
            "[nltk_data]   Unzipping tokenizers/punkt.zip.\n",
            "[nltk_data] Downloading package stopwords to /root/nltk_data...\n",
            "[nltk_data]   Unzipping corpora/stopwords.zip.\n",
            "[nltk_data] Downloading package wordnet to /root/nltk_data...\n",
            "[nltk_data]   Unzipping corpora/wordnet.zip.\n",
            "[nltk_data] Downloading package averaged_perceptron_tagger to\n",
            "[nltk_data]     /root/nltk_data...\n",
            "[nltk_data]   Unzipping taggers/averaged_perceptron_tagger.zip.\n"
          ]
        },
        {
          "output_type": "execute_result",
          "data": {
            "text/plain": [
              "True"
            ]
          },
          "metadata": {},
          "execution_count": 6
        }
      ]
    },
    {
      "cell_type": "code",
      "metadata": {
        "id": "cQmS3T-kZxul"
      },
      "source": [
        "train_data = pd.read_csv(\"text_emotion.csv\")"
      ],
      "execution_count": 7,
      "outputs": []
    },
    {
      "cell_type": "code",
      "metadata": {
        "id": "GsyH6xRDaPNj"
      },
      "source": [
        "traindata=train_data.drop(['tweet_id', 'author'], axis=1)"
      ],
      "execution_count": 8,
      "outputs": []
    },
    {
      "cell_type": "code",
      "metadata": {
        "id": "9qDNFdB7a_D2",
        "colab": {
          "base_uri": "https://localhost:8080/",
          "height": 357
        },
        "outputId": "f3e0ddf8-022e-4b0d-e333-5b32c0fe4a21"
      },
      "source": [
        "traindata.head(10)"
      ],
      "execution_count": 9,
      "outputs": [
        {
          "output_type": "execute_result",
          "data": {
            "text/html": [
              "<div>\n",
              "<style scoped>\n",
              "    .dataframe tbody tr th:only-of-type {\n",
              "        vertical-align: middle;\n",
              "    }\n",
              "\n",
              "    .dataframe tbody tr th {\n",
              "        vertical-align: top;\n",
              "    }\n",
              "\n",
              "    .dataframe thead th {\n",
              "        text-align: right;\n",
              "    }\n",
              "</style>\n",
              "<table border=\"1\" class=\"dataframe\">\n",
              "  <thead>\n",
              "    <tr style=\"text-align: right;\">\n",
              "      <th></th>\n",
              "      <th>sentiment</th>\n",
              "      <th>content</th>\n",
              "    </tr>\n",
              "  </thead>\n",
              "  <tbody>\n",
              "    <tr>\n",
              "      <th>0</th>\n",
              "      <td>empty</td>\n",
              "      <td>@tiffanylue i know  i was listenin to bad habi...</td>\n",
              "    </tr>\n",
              "    <tr>\n",
              "      <th>1</th>\n",
              "      <td>sadness</td>\n",
              "      <td>Layin n bed with a headache  ughhhh...waitin o...</td>\n",
              "    </tr>\n",
              "    <tr>\n",
              "      <th>2</th>\n",
              "      <td>sadness</td>\n",
              "      <td>Funeral ceremony...gloomy friday...</td>\n",
              "    </tr>\n",
              "    <tr>\n",
              "      <th>3</th>\n",
              "      <td>enthusiasm</td>\n",
              "      <td>wants to hang out with friends SOON!</td>\n",
              "    </tr>\n",
              "    <tr>\n",
              "      <th>4</th>\n",
              "      <td>neutral</td>\n",
              "      <td>@dannycastillo We want to trade with someone w...</td>\n",
              "    </tr>\n",
              "    <tr>\n",
              "      <th>5</th>\n",
              "      <td>worry</td>\n",
              "      <td>Re-pinging @ghostridah14: why didn't you go to...</td>\n",
              "    </tr>\n",
              "    <tr>\n",
              "      <th>6</th>\n",
              "      <td>sadness</td>\n",
              "      <td>I should be sleep, but im not! thinking about ...</td>\n",
              "    </tr>\n",
              "    <tr>\n",
              "      <th>7</th>\n",
              "      <td>worry</td>\n",
              "      <td>Hmmm. http://www.djhero.com/ is down</td>\n",
              "    </tr>\n",
              "    <tr>\n",
              "      <th>8</th>\n",
              "      <td>sadness</td>\n",
              "      <td>@charviray Charlene my love. I miss you</td>\n",
              "    </tr>\n",
              "    <tr>\n",
              "      <th>9</th>\n",
              "      <td>sadness</td>\n",
              "      <td>@kelcouch I'm sorry  at least it's Friday?</td>\n",
              "    </tr>\n",
              "  </tbody>\n",
              "</table>\n",
              "</div>"
            ],
            "text/plain": [
              "    sentiment                                            content\n",
              "0       empty  @tiffanylue i know  i was listenin to bad habi...\n",
              "1     sadness  Layin n bed with a headache  ughhhh...waitin o...\n",
              "2     sadness                Funeral ceremony...gloomy friday...\n",
              "3  enthusiasm               wants to hang out with friends SOON!\n",
              "4     neutral  @dannycastillo We want to trade with someone w...\n",
              "5       worry  Re-pinging @ghostridah14: why didn't you go to...\n",
              "6     sadness  I should be sleep, but im not! thinking about ...\n",
              "7       worry               Hmmm. http://www.djhero.com/ is down\n",
              "8     sadness            @charviray Charlene my love. I miss you\n",
              "9     sadness         @kelcouch I'm sorry  at least it's Friday?"
            ]
          },
          "metadata": {},
          "execution_count": 9
        }
      ]
    },
    {
      "cell_type": "code",
      "metadata": {
        "id": "YaiVhv-7bB1F"
      },
      "source": [
        "def cleaning(content):\n",
        "  lower_case = content.lower()\n",
        "  lower_case.replace(\".\",\" \")\n",
        "  cleaned_text = lower_case.translate(str.maketrans('.',' ',string.punctuation))\n",
        "  tokenized_words = word_tokenize(cleaned_text,\"english\")\n",
        "  final_words = [word for word in tokenized_words if word not in stopwords.words(\"english\")]\n",
        "  clean_words=[]\n",
        "  for word in final_words:\n",
        "    clean_words.append(cons_dupl(word))\n",
        "  postagged_words=nltk.pos_tag(clean_words)\n",
        "  lemma_words=[]\n",
        "  for word,y in postagged_words:\n",
        "      lemma_words.append(WordNetLemmatizer().lemmatize(word))\n",
        "  lemma_words = ls(lemma_words)\n",
        "  return lemma_words\n",
        "\n",
        "def cons_dupl(word):\n",
        "     s=''\n",
        "     for char in word:\n",
        "       if s=='' or char!=s[len(s)-1]:\n",
        "         s=s+char\n",
        "     return s\n",
        "def ls(content):\n",
        "  listtostr = \"\"\n",
        "  for word in content:\n",
        "    listtostr +=\" \"+word\n",
        "  return listtostr\n",
        "\n",
        "  "
      ],
      "execution_count": 10,
      "outputs": []
    },
    {
      "cell_type": "code",
      "metadata": {
        "id": "iPS8HEz1o8_F"
      },
      "source": [
        "traindata['cleaned_text'] = traindata['content'].apply(cleaning)\n"
      ],
      "execution_count": 11,
      "outputs": []
    },
    {
      "cell_type": "code",
      "metadata": {
        "id": "6wSFqZMlsyLt"
      },
      "source": [
        "from sklearn.linear_model import LinearRegression\n",
        "from sklearn.naive_bayes import MultinomialNB\n",
        "from sklearn.feature_extraction.text import TfidfVectorizer\n",
        "from sklearn.model_selection import train_test_split\n",
        "from sklearn.metrics import classification_report,confusion_matrix,r2_score,accuracy_score"
      ],
      "execution_count": 12,
      "outputs": []
    },
    {
      "cell_type": "code",
      "metadata": {
        "id": "yUZM4iN6MiY1"
      },
      "source": [
        "from sklearn.feature_extraction.text import CountVectorizer"
      ],
      "execution_count": 13,
      "outputs": []
    },
    {
      "cell_type": "code",
      "metadata": {
        "id": "QKYjjmhiyfwM"
      },
      "source": [
        "x_features = traindata['cleaned_text']\n",
        "y_labels = traindata['sentiment']"
      ],
      "execution_count": 14,
      "outputs": []
    },
    {
      "cell_type": "code",
      "metadata": {
        "id": "h6T17604zJgv"
      },
      "source": [
        "cv = CountVectorizer()\n",
        "X = cv.fit_transform(x_features)"
      ],
      "execution_count": 15,
      "outputs": []
    },
    {
      "cell_type": "code",
      "metadata": {
        "id": "A03QcGR9CRNP"
      },
      "source": [
        "x_train,x_test,y_train,y_test=train_test_split(X,y_labels,test_size=0.3,random_state=42)"
      ],
      "execution_count": 16,
      "outputs": []
    },
    {
      "cell_type": "code",
      "metadata": {
        "id": "-eErpblCDCeb",
        "colab": {
          "base_uri": "https://localhost:8080/"
        },
        "outputId": "67c85531-ea37-4baa-d7c8-16f303955c6e"
      },
      "source": [
        "nv_model = MultinomialNB()\n",
        "nv_model.fit(x_train,y_train)"
      ],
      "execution_count": 41,
      "outputs": [
        {
          "output_type": "execute_result",
          "data": {
            "text/plain": [
              "MultinomialNB(alpha=1.0, class_prior=None, fit_prior=True)"
            ]
          },
          "metadata": {},
          "execution_count": 41
        }
      ]
    },
    {
      "cell_type": "code",
      "metadata": {
        "id": "b7DLQXpjDWiO",
        "colab": {
          "base_uri": "https://localhost:8080/"
        },
        "outputId": "390cb8ba-8103-41ac-99b8-8af11541ed20"
      },
      "source": [
        "nv_model.score(x_test,y_test)"
      ],
      "execution_count": 22,
      "outputs": [
        {
          "output_type": "execute_result",
          "data": {
            "text/plain": [
              "0.315"
            ]
          },
          "metadata": {},
          "execution_count": 22
        }
      ]
    },
    {
      "cell_type": "code",
      "metadata": {
        "id": "sE6leWmUEMk6"
      },
      "source": [
        "predictvalue = nv_model.predict(x_test)"
      ],
      "execution_count": 23,
      "outputs": []
    },
    {
      "cell_type": "code",
      "metadata": {
        "colab": {
          "base_uri": "https://localhost:8080/"
        },
        "id": "y4zdnzFKR1vz",
        "outputId": "1f6a35fe-d4e7-4a53-efe4-0f182c85bb12"
      },
      "source": [
        "predictvalue"
      ],
      "execution_count": 36,
      "outputs": [
        {
          "output_type": "execute_result",
          "data": {
            "text/plain": [
              "array(['happiness', 'neutral', 'worry', ..., 'worry', 'neutral', 'worry'],\n",
              "      dtype='<U10')"
            ]
          },
          "metadata": {},
          "execution_count": 36
        }
      ]
    },
    {
      "cell_type": "code",
      "metadata": {
        "id": "FR4ubvKnXkYl"
      },
      "source": [
        "import numpy as np"
      ],
      "execution_count": 57,
      "outputs": []
    },
    {
      "cell_type": "code",
      "metadata": {
        "id": "g1DjbsckWkie"
      },
      "source": [
        "def callmodel1(text):\n",
        "   vect = cv.transform(text).toarray()\n",
        "   emotion = nv_model.predict(vect)\n",
        "   pred_proba =nv_model.predict_proba(vect)\n",
        "   max=np.max(pred_proba)\n",
        "   pred_percent_for_all = dict(zip(nv_model.classes_,pred_proba[0]*100))\n",
        "   print(pred_percent_for_all)\n",
        "   return emotion,max,pred_percent_for_all"
      ],
      "execution_count": 116,
      "outputs": []
    },
    {
      "cell_type": "code",
      "metadata": {
        "colab": {
          "base_uri": "https://localhost:8080/"
        },
        "id": "Y-FHc4oQh1A4",
        "outputId": "6a90cf1e-dd1a-4e4c-a173-4ff7bef58914"
      },
      "source": [
        "text = input(\"text here\")\n",
        "in_text = []\n",
        "in_text.append(text)\n",
        "output=callmodel1(in_text)\n",
        "emotion = output[0]\n",
        "statement=output[2]\n",
        "maxim = output[1]\n",
        "x = list(statement.keys())\n",
        "y = list(statement.values())\n",
        "print(\"emotion: \")\n",
        "print(emotion)\n",
        "print(\"strength:\")\n",
        "print(maxim)\n",
        "plt.bar(x,y)\n",
        "plt.show()"
      ],
      "execution_count": 118,
      "outputs": [
        {
          "output_type": "stream",
          "name": "stdout",
          "text": [
            "text herei love india and i love python\n",
            "{'anger': 5.573457197676421e-05, 'boredom': 0.0001924056139486012, 'empty': 0.002768853667691148, 'enthusiasm': 0.022401576132908788, 'fun': 0.09710910151285021, 'happiness': 11.756126615874058, 'hate': 0.017074664488794283, 'love': 73.2036518327141, 'neutral': 3.3680428270597735, 'relief': 0.0867891430785499, 'sadness': 8.575230387449457, 'surprise': 0.49198241221918154, 'worry': 2.3785744456170375}\n",
            "emotion: \n",
            "['love']\n",
            "strength:\n",
            "0.732036518327141\n"
          ]
        }
      ]
    }
  ]
}